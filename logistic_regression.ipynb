{
 "cells": [
  {
   "cell_type": "markdown",
   "id": "2f5f12e4",
   "metadata": {},
   "source": [
    "## Regression Logistique (Logistic Regression)"
   ]
  },
  {
   "cell_type": "code",
   "execution_count": 29,
   "id": "3db78d21",
   "metadata": {},
   "outputs": [],
   "source": [
    "import numpy as np\n",
    "import pandas as pd\n",
    "import matplotlib.pyplot as plt"
   ]
  },
  {
   "cell_type": "code",
   "execution_count": 30,
   "id": "b6ba7b85",
   "metadata": {},
   "outputs": [
    {
     "data": {
      "text/html": [
       "<div>\n",
       "<style scoped>\n",
       "    .dataframe tbody tr th:only-of-type {\n",
       "        vertical-align: middle;\n",
       "    }\n",
       "\n",
       "    .dataframe tbody tr th {\n",
       "        vertical-align: top;\n",
       "    }\n",
       "\n",
       "    .dataframe thead th {\n",
       "        text-align: right;\n",
       "    }\n",
       "</style>\n",
       "<table border=\"1\" class=\"dataframe\">\n",
       "  <thead>\n",
       "    <tr style=\"text-align: right;\">\n",
       "      <th></th>\n",
       "      <th>Pregnancies</th>\n",
       "      <th>Glucose</th>\n",
       "      <th>BloodPressure</th>\n",
       "      <th>SkinThickness</th>\n",
       "      <th>Insulin</th>\n",
       "      <th>BMI</th>\n",
       "      <th>DiabetesPedigreeFunction</th>\n",
       "      <th>Age</th>\n",
       "      <th>Outcome</th>\n",
       "    </tr>\n",
       "  </thead>\n",
       "  <tbody>\n",
       "    <tr>\n",
       "      <th>0</th>\n",
       "      <td>6</td>\n",
       "      <td>148</td>\n",
       "      <td>72</td>\n",
       "      <td>35</td>\n",
       "      <td>0</td>\n",
       "      <td>33.6</td>\n",
       "      <td>0.627</td>\n",
       "      <td>50</td>\n",
       "      <td>1</td>\n",
       "    </tr>\n",
       "    <tr>\n",
       "      <th>1</th>\n",
       "      <td>1</td>\n",
       "      <td>85</td>\n",
       "      <td>66</td>\n",
       "      <td>29</td>\n",
       "      <td>0</td>\n",
       "      <td>26.6</td>\n",
       "      <td>0.351</td>\n",
       "      <td>31</td>\n",
       "      <td>0</td>\n",
       "    </tr>\n",
       "    <tr>\n",
       "      <th>2</th>\n",
       "      <td>8</td>\n",
       "      <td>183</td>\n",
       "      <td>64</td>\n",
       "      <td>0</td>\n",
       "      <td>0</td>\n",
       "      <td>23.3</td>\n",
       "      <td>0.672</td>\n",
       "      <td>32</td>\n",
       "      <td>1</td>\n",
       "    </tr>\n",
       "    <tr>\n",
       "      <th>3</th>\n",
       "      <td>1</td>\n",
       "      <td>89</td>\n",
       "      <td>66</td>\n",
       "      <td>23</td>\n",
       "      <td>94</td>\n",
       "      <td>28.1</td>\n",
       "      <td>0.167</td>\n",
       "      <td>21</td>\n",
       "      <td>0</td>\n",
       "    </tr>\n",
       "    <tr>\n",
       "      <th>4</th>\n",
       "      <td>0</td>\n",
       "      <td>137</td>\n",
       "      <td>40</td>\n",
       "      <td>35</td>\n",
       "      <td>168</td>\n",
       "      <td>43.1</td>\n",
       "      <td>2.288</td>\n",
       "      <td>33</td>\n",
       "      <td>1</td>\n",
       "    </tr>\n",
       "  </tbody>\n",
       "</table>\n",
       "</div>"
      ],
      "text/plain": [
       "   Pregnancies  Glucose  BloodPressure  SkinThickness  Insulin   BMI  \\\n",
       "0            6      148             72             35        0  33.6   \n",
       "1            1       85             66             29        0  26.6   \n",
       "2            8      183             64              0        0  23.3   \n",
       "3            1       89             66             23       94  28.1   \n",
       "4            0      137             40             35      168  43.1   \n",
       "\n",
       "   DiabetesPedigreeFunction  Age  Outcome  \n",
       "0                     0.627   50        1  \n",
       "1                     0.351   31        0  \n",
       "2                     0.672   32        1  \n",
       "3                     0.167   21        0  \n",
       "4                     2.288   33        1  "
      ]
     },
     "execution_count": 30,
     "metadata": {},
     "output_type": "execute_result"
    }
   ],
   "source": [
    "data = pd.read_csv ('diabetes.csv')\n",
    "data.head ()"
   ]
  },
  {
   "cell_type": "code",
   "execution_count": 31,
   "id": "99abec5b",
   "metadata": {},
   "outputs": [],
   "source": [
    "def featrue_standard (data) :\n",
    "    d_mean = np.mean (data, axis = 0)\n",
    "    d_std = np.std (data, axis = 0)\n",
    "    data_scaled = (data - d_mean) / d_std\n",
    "    return data_scaled"
   ]
  },
  {
   "cell_type": "code",
   "execution_count": 32,
   "id": "59891f43",
   "metadata": {},
   "outputs": [],
   "source": [
    "standard_data = featrue_standard (data)\n",
    "data.iloc [:, 0:-1] = standard_data.iloc [:, 0:-1]"
   ]
  },
  {
   "cell_type": "code",
   "execution_count": 33,
   "id": "2cd63460",
   "metadata": {},
   "outputs": [],
   "source": [
    "def split_data (df, train_persent) :\n",
    "    np.random.seed (0)\n",
    "    perm = np.random.permutation (df.index)\n",
    "    n = len (df)\n",
    "    \n",
    "    train_index = int (train_persent * n)\n",
    "    train = df.iloc [perm [:train_index]]\n",
    "    test = df.iloc [perm [train_index:]]\n",
    "    \n",
    "    x_train = train.iloc [:, :-1]\n",
    "    y_train = train.iloc [:, -1]\n",
    "    \n",
    "    x_test = test.iloc [:, :-1]\n",
    "    y_test = test.iloc [:, -1]\n",
    "    \n",
    "    return x_train.values, x_test.values, y_train.values, y_test.values"
   ]
  },
  {
   "cell_type": "code",
   "execution_count": 34,
   "id": "8bf9da83",
   "metadata": {},
   "outputs": [
    {
     "data": {
      "text/plain": [
       "((614, 8), (154, 8), (614,), (154,))"
      ]
     },
     "execution_count": 34,
     "metadata": {},
     "output_type": "execute_result"
    }
   ],
   "source": [
    "x_train, x_test, y_train, y_test = split_data (data, 0.8)\n",
    "x_train.shape, x_test.shape, y_train.shape, y_test.shape"
   ]
  },
  {
   "cell_type": "markdown",
   "id": "0e8d675f",
   "metadata": {},
   "source": [
    "## Logistic regression from Scratch"
   ]
  },
  {
   "cell_type": "code",
   "execution_count": 47,
   "id": "1c41de5e",
   "metadata": {},
   "outputs": [],
   "source": [
    "class LogisticRegression :\n",
    "    def __init__ (self, epochs = 100, threshold = 0.5, tolerance = 1e-10, lr = 0.0001) :\n",
    "        self.epochs = epochs\n",
    "        self.threshold = threshold\n",
    "        self.tolerance = tolerance\n",
    "        self.lr = lr\n",
    "        self.theta = None\n",
    "        \n",
    "    def add_ones (self, x) :\n",
    "        x_new = np.hstack ([np.ones ((x.shape [0], 1)), x])\n",
    "        return x_new\n",
    "    \n",
    "    def sigmoid (self, x, theta) :\n",
    "        h = x@self.theta\n",
    "        return 1 / (1 + np.exp (- h))\n",
    "    \n",
    "    def cross_entropy (self, x, y_true) :\n",
    "        n = len (x) # Taille des features\n",
    "        y_pred = self.sigmoid (x, self.theta)\n",
    "        cost = - ((y_pred.T@np.log (y_pred)) + (1 - y_true.T)@np.log (1 - y_pred)) / n\n",
    "        return cost [0]\n",
    "    \n",
    "    def fit (self, x, y) :\n",
    "        x = self.add_ones (x)\n",
    "        y = y.reshape (-1, 1)\n",
    "        self.theta = np.zeros ((x.shape [1], 1)) # Initialisation de theat avec le vecteur null\n",
    "        current_iter = 1\n",
    "        norm = 1\n",
    "        \n",
    "        self.cost_history = []\n",
    "        self.cost_history_test = []\n",
    "        \n",
    "        while (norm >= self.tolerance and current_iter < self.epochs) :\n",
    "            theta_old = self.theta.copy ()\n",
    "            \n",
    "            # Faire une pédiction \n",
    "            y_pred = self.sigmoid (x, self.theta)\n",
    "\n",
    "            # Gradient\n",
    "            grad = -x.T@((y.reshape (-1, 1) - y_pred.reshape (-1, 1)))\n",
    "            grad = grad.reshape (-1, 1) # On le fait si besoin puisque nous le faisons from scratch sans connaitre les dimensions encore\n",
    "            \n",
    "            # Update rules\n",
    "            theta_new = theta_old - self.lr * grad\n",
    "            self.theta = theta_new\n",
    "            \n",
    "            # Calculer les erreurs d'entrainement et de test\n",
    "            self.cost_history.append (self.cross_entropy (x, y))\n",
    "            self.cost_history_test.append (self.cross_entropy (self.add_ones (x_test), y_test))\n",
    "            \n",
    "            # Critère de convergence\n",
    "            if current_iter % 100 == 0 :\n",
    "                print (f'cost for {current_iter} iteration : {self.cross_entropy (x, y)}')\n",
    "            \n",
    "            # Icrémentation des paramètres de la boucle\n",
    "            norm = np.linalg.norm (theta_old - self.theta)\n",
    "            current_iter += 1\n",
    "            \n",
    "    def predict_proba (self, x) :\n",
    "        x = self.add_ones (x)\n",
    "        y_pred = self.sigmoid (x, self.theta)\n",
    "        return y_pred\n",
    "    \n",
    "    def predict (self, x) :\n",
    "        proba = self.predict_proba (x)\n",
    "        result = [1 if i > self.threshold else 0 for i in proba] # Convertir les probabilités en 0 et 1\n",
    "        return np.array (result)\n",
    "    \n",
    "    def plot (self) :\n",
    "        plt.figure (figsize = (10, 6))\n",
    "        plt.style.use ('ggplot')\n",
    "        plt.plot (self.cost_history, label = 'Train Loss')\n",
    "        plt.plot (self.cost_history_test, label = 'Test Loss')\n",
    "        plt.legend (loc = 'upper right')\n",
    "        plt.show"
   ]
  },
  {
   "cell_type": "code",
   "execution_count": 53,
   "id": "d0ca4037",
   "metadata": {},
   "outputs": [],
   "source": [
    "model = LogisticRegression (epochs = 1000, lr = 0.00000019)"
   ]
  },
  {
   "cell_type": "code",
   "execution_count": 54,
   "id": "b9b36705",
   "metadata": {},
   "outputs": [
    {
     "name": "stdout",
     "output_type": "stream",
     "text": [
      "cost for 100 iteration : [0.79146815]\n",
      "cost for 200 iteration : [0.7904514]\n",
      "cost for 300 iteration : [0.78944047]\n",
      "cost for 400 iteration : [0.78843529]\n",
      "cost for 500 iteration : [0.78743583]\n",
      "cost for 600 iteration : [0.78644202]\n",
      "cost for 700 iteration : [0.78545384]\n",
      "cost for 800 iteration : [0.78447122]\n",
      "cost for 900 iteration : [0.78349411]\n"
     ]
    }
   ],
   "source": [
    "# Train model\n",
    "model.fit (x_train, y_train)"
   ]
  },
  {
   "cell_type": "code",
   "execution_count": 55,
   "id": "b407095e",
   "metadata": {},
   "outputs": [
    {
     "data": {
      "text/plain": [
       "array([0, 1, 0, 1, 1, 0, 1, 0, 0, 0, 0, 0, 1, 0, 0, 0, 1, 0, 1, 0, 0, 0,\n",
       "       0, 0, 1, 1, 0, 0, 0, 0, 0, 0, 1, 1, 1, 1, 1, 1, 0, 0, 1, 1, 1, 1,\n",
       "       1, 0, 0, 1, 0, 0, 0, 1, 0, 0, 0, 0, 0, 0, 1, 1, 0, 1, 0, 1, 0, 1,\n",
       "       0, 0, 0, 1, 0, 1, 1, 0, 0, 1, 0, 0, 0, 0, 1, 0, 0, 1, 0, 0, 0, 0,\n",
       "       0, 0, 1, 0, 0, 0, 0, 0, 0, 1, 1, 0, 0, 0, 1, 0, 0, 1, 0, 1, 0, 1,\n",
       "       0, 1, 0, 0, 0, 0, 0, 0, 0, 0, 0, 0, 1, 1, 0, 0, 0, 1, 1, 0, 0, 1,\n",
       "       0, 0, 0, 1, 0, 1, 0, 0, 0, 0, 0, 1, 0, 1, 0, 1, 0, 1, 1, 0, 0, 0])"
      ]
     },
     "execution_count": 55,
     "metadata": {},
     "output_type": "execute_result"
    }
   ],
   "source": [
    "# Test model\n",
    "model.predict (x_test)"
   ]
  },
  {
   "cell_type": "code",
   "execution_count": 56,
   "id": "2f6de5c4",
   "metadata": {},
   "outputs": [
    {
     "data": {
      "image/png": "[encoded data removed]",
      "text/plain": [
       "<Figure size 1000x600 with 1 Axes>"
      ]
     },
     "metadata": {},
     "output_type": "display_data"
    }
   ],
   "source": [
    "model.plot ()"
   ]
  },
  {
   "cell_type": "code",
   "execution_count": null,
   "id": "0f1566dc",
   "metadata": {},
   "outputs": [],
   "source": []
  }
 ],
 "metadata": {
  "kernelspec": {
   "display_name": "Python 3 (ipykernel)",
   "language": "python",
   "name": "python3"
  },
  "language_info": {
   "codemirror_mode": {
    "name": "ipython",
    "version": 3
   },
   "file_extension": ".py",
   "mimetype": "text/x-python",
   "name": "python",
   "nbconvert_exporter": "python",
   "pygments_lexer": "ipython3",
   "version": "3.9.13"
  }
 },
 "nbformat": 4,
 "nbformat_minor": 5
}
